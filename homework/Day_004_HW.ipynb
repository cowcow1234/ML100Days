{
 "cells": [
  {
   "cell_type": "code",
   "execution_count": 2,
   "metadata": {},
   "outputs": [],
   "source": [
    "import numpy as np\n",
    "\n",
    "english_score = np.array([55,89,76,65,48,70])\n",
    "math_score = np.array([60,85,60,68,55,60])\n",
    "chinese_score = np.array([65,90,82,72,66,77])"
   ]
  },
  {
   "cell_type": "code",
   "execution_count": 19,
   "metadata": {},
   "outputs": [
    {
     "name": "stdout",
     "output_type": "stream",
     "text": [
      "英文比數學高的同學: 3\n"
     ]
    }
   ],
   "source": [
    "#1.有多少學生英文成績比數學成績高?\n",
    "\n",
    "a1 = np.greater(english_score,math_score)\n",
    "\n",
    "x = 0\n",
    "\n",
    "for i in a1:\n",
    "    if i and True:\n",
    "     x = x + 1\n",
    "        \n",
    "print(\"英文比數學高的同學:\",x)"
   ]
  },
  {
   "cell_type": "code",
   "execution_count": 16,
   "metadata": {},
   "outputs": [
    {
     "name": "stdout",
     "output_type": "stream",
     "text": [
      "國文是否比數學高分: [ True  True  True  True  True  True]\n",
      "國文是否比英文高分: [ True  True  True  True  True  True]\n",
      "是否全班同學最高分是國文: True\n"
     ]
    }
   ],
   "source": [
    "#2.是否全班同學最高分都是國文?\n",
    "\n",
    "a2 = np.greater(chinese_score,math_score)\n",
    "print(\"國文是否比數學高分:\",a2)\n",
    "\n",
    "a3 = np.greater(chinese_score,english_score)\n",
    "print(\"國文是否比英文高分:\",a3)\n",
    "\n",
    "a4 = np.all(np.logical_and(a2, a3))\n",
    "print(\"是否全班同學最高分是國文:\",a4)"
   ]
  }
 ],
 "metadata": {
  "kernelspec": {
   "display_name": "Python 3",
   "language": "python",
   "name": "python3"
  },
  "language_info": {
   "codemirror_mode": {
    "name": "ipython",
    "version": 3
   },
   "file_extension": ".py",
   "mimetype": "text/x-python",
   "name": "python",
   "nbconvert_exporter": "python",
   "pygments_lexer": "ipython3",
   "version": "3.8.5"
  }
 },
 "nbformat": 4,
 "nbformat_minor": 4
}
