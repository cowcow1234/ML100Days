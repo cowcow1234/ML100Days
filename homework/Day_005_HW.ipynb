{
 "cells": [
  {
   "cell_type": "code",
   "execution_count": 1,
   "metadata": {},
   "outputs": [],
   "source": [
    "import numpy as np"
   ]
  },
  {
   "cell_type": "code",
   "execution_count": 2,
   "metadata": {},
   "outputs": [],
   "source": [
    "english_score = np.array([55,89,76,65,48,70])\n",
    "math_score = np.array([60,85,60,68,np.nan,60])\n",
    "chinese_score = np.array([65,90,82,72,66,77])"
   ]
  },
  {
   "cell_type": "code",
   "execution_count": 8,
   "metadata": {},
   "outputs": [
    {
     "name": "stdout",
     "output_type": "stream",
     "text": [
      "english mean: 67.16666666666667\n",
      "english max: 89\n",
      "english min: 48\n",
      "english std: 13.433995020924426\n",
      "math mean: 66.6\n",
      "math max: 85.0\n",
      "math min: 60.0\n",
      "math std: 9.707728879609279\n",
      "chinese mean: 75.33333333333333\n",
      "chinese max: 90\n",
      "chinese min: 65\n",
      "chinese std: 8.825468196582484\n"
     ]
    }
   ],
   "source": [
    "#1. 請計算各科成績平均、最大值、最小值、標準差，其中數學缺一筆資料可忽略?\n",
    "\n",
    "english_mean = np.nanmean(english_score)\n",
    "print(\"english mean:\",english_mean)\n",
    "english_max = np.nanmax(english_score)\n",
    "print(\"english max:\",english_max)\n",
    "english_min = np.nanmin(english_score)\n",
    "print(\"english min:\",english_min)\n",
    "english_std = np.nanstd(english_score)\n",
    "print(\"english std:\",english_std)\n",
    "\n",
    "math_mean = np.nanmean(math_score)\n",
    "print(\"math mean:\",math_mean)\n",
    "math_max = np.nanmax(math_score)\n",
    "print(\"math max:\",math_max)\n",
    "math_min = np.nanmin(math_score)\n",
    "print(\"math min:\",math_min)\n",
    "math_std = np.nanstd(math_score)\n",
    "print(\"math std:\",math_std)\n",
    "\n",
    "chinese_mean = np.nanmean(chinese_score)\n",
    "print(\"chinese mean:\",chinese_mean)\n",
    "chinese_max = np.nanmax(chinese_score)\n",
    "print(\"chinese max:\",chinese_max)\n",
    "chinese_min = np.nanmin(chinese_score)\n",
    "print(\"chinese min:\",chinese_min)\n",
    "chinese_std = np.nanstd(chinese_score)\n",
    "print(\"chinese std:\",chinese_std)"
   ]
  },
  {
   "cell_type": "code",
   "execution_count": 22,
   "metadata": {},
   "outputs": [
    {
     "name": "stdout",
     "output_type": "stream",
     "text": [
      "math mean: 64.66666666666667\n",
      "math max: 85\n",
      "math min: 55\n",
      "math std: 9.860132971832694\n"
     ]
    }
   ],
   "source": [
    "#2. 第五位同學補考數學後成績為55，請計算補考後數學成績平均、最大值、最小值、標準差?\n",
    "\n",
    "math_score[4] = 55\n",
    "\n",
    "math_mean = np.mean(math_score)\n",
    "print(\"math mean:\",math_mean)\n",
    "math_max = np.max(math_score)\n",
    "print(\"math max:\",math_max)\n",
    "math_min = np.min(math_score)\n",
    "print(\"math min:\",math_min)\n",
    "math_std = np.std(math_score)\n",
    "print(\"math std:\",math_std)"
   ]
  },
  {
   "cell_type": "code",
   "execution_count": 23,
   "metadata": {},
   "outputs": [
    {
     "name": "stdout",
     "output_type": "stream",
     "text": [
      "[[1.         0.97792828]\n",
      " [0.97792828 1.        ]]\n",
      "[[1.         0.74056803]\n",
      " [0.74056803 1.        ]]\n",
      "english is more correlation With chinese\n"
     ]
    }
   ],
   "source": [
    "#3. 用補考後資料找出與國文成績相關係數最高的學科?\n",
    "english_score = np.array([55,89,76,65,48,70])\n",
    "math_score = np.array([60,85,60,68,55,60])\n",
    "chinese_score = np.array([65,90,82,72,66,77])\n",
    "\n",
    "x1 = np.corrcoef(english_score, chinese_score)\n",
    "print(x1)\n",
    "\n",
    "x2 = np.corrcoef(math_score, chinese_score)\n",
    "print(x2)\n",
    "\n",
    "if x1.min() > x2.min():\n",
    "    print(\"english is more correlation With chinese\")\n",
    "else:\n",
    "    print(\"math is more correlation With chinese\")"
   ]
  },
  {
   "cell_type": "code",
   "execution_count": null,
   "metadata": {},
   "outputs": [],
   "source": []
  }
 ],
 "metadata": {
  "kernelspec": {
   "display_name": "Python 3",
   "language": "python",
   "name": "python3"
  },
  "language_info": {
   "codemirror_mode": {
    "name": "ipython",
    "version": 3
   },
   "file_extension": ".py",
   "mimetype": "text/x-python",
   "name": "python",
   "nbconvert_exporter": "python",
   "pygments_lexer": "ipython3",
   "version": "3.8.5"
  }
 },
 "nbformat": 4,
 "nbformat_minor": 4
}
